{
 "cells": [
  {
   "cell_type": "code",
   "execution_count": 1,
   "id": "33c70571",
   "metadata": {},
   "outputs": [],
   "source": [
    "n1=6"
   ]
  },
  {
   "cell_type": "code",
   "execution_count": 2,
   "id": "ed78bc59",
   "metadata": {},
   "outputs": [],
   "source": [
    "n2=2"
   ]
  },
  {
   "cell_type": "code",
   "execution_count": 8,
   "id": "fe95412d",
   "metadata": {},
   "outputs": [
    {
     "name": "stdout",
     "output_type": "stream",
     "text": [
      "& operation-  2\n"
     ]
    }
   ],
   "source": [
    "#python worksheet ques 4\n",
    "print(\"& operation- \", n1&n2)   #& operation"
   ]
  },
  {
   "cell_type": "code",
   "execution_count": 9,
   "id": "61e244a9",
   "metadata": {},
   "outputs": [
    {
     "name": "stdout",
     "output_type": "stream",
     "text": [
      "| operation-  6\n"
     ]
    }
   ],
   "source": [
    "#python worksheet ques 5\n",
    "print(\"| operation- \", n1|n2)     #or operation"
   ]
  },
  {
   "cell_type": "code",
   "execution_count": 10,
   "id": "4b52d723",
   "metadata": {},
   "outputs": [
    {
     "name": "stdout",
     "output_type": "stream",
     "text": [
      "something went wrong\n",
      "The try except block is finished\n"
     ]
    }
   ],
   "source": [
    "try:\n",
    "    x>3\n",
    "except:\n",
    "    print(\"something went wrong\")\n",
    "else:\n",
    "    print(\"nothing went wrong\")\n",
    "finally:\n",
    "    print(\"The try except block is finished\")"
   ]
  },
  {
   "cell_type": "code",
   "execution_count": 12,
   "id": "a84b74a3",
   "metadata": {},
   "outputs": [],
   "source": [
    "abc1 = 2"
   ]
  },
  {
   "cell_type": "code",
   "execution_count": 13,
   "id": "71c15b82",
   "metadata": {},
   "outputs": [],
   "source": [
    "_abc = 2"
   ]
  },
  {
   "cell_type": "code",
   "execution_count": 14,
   "id": "bfb45eb9",
   "metadata": {},
   "outputs": [],
   "source": [
    "#Write a python program to find the factorial of a number."
   ]
  },
  {
   "cell_type": "code",
   "execution_count": 15,
   "id": "211707e0",
   "metadata": {},
   "outputs": [],
   "source": [
    "#The factorial is the product of all the numbers less than or equal to the given number till 1.\n",
    "#For example, the factorial of 4 will be 4\\*3\\*2\\*1, which is 24."
   ]
  },
  {
   "cell_type": "code",
   "execution_count": 4,
   "id": "8f5f4375",
   "metadata": {},
   "outputs": [
    {
     "name": "stdout",
     "output_type": "stream",
     "text": [
      "10\n",
      "3628800\n"
     ]
    }
   ],
   "source": [
    "def fact(n):\n",
    "    if n < 0:\n",
    "        return 'Factorial does not exist'\n",
    "    elif n == 0:\n",
    "        return 1\n",
    "    else:\n",
    "        return n * fact(n-1)\n",
    " \n",
    "num = int(input())\n",
    "print(fact(num))"
   ]
  },
  {
   "cell_type": "code",
   "execution_count": 5,
   "id": "d2f378a7",
   "metadata": {},
   "outputs": [],
   "source": [
    "# Using Maths module"
   ]
  },
  {
   "cell_type": "code",
   "execution_count": 8,
   "id": "1d5a7fe0",
   "metadata": {},
   "outputs": [
    {
     "name": "stdout",
     "output_type": "stream",
     "text": [
      "8\n",
      "40320\n"
     ]
    }
   ],
   "source": [
    "import math\n",
    "qw=int(input())\n",
    "print(math.factorial(qw))\n"
   ]
  },
  {
   "cell_type": "code",
   "execution_count": null,
   "id": "971444b7",
   "metadata": {},
   "outputs": [],
   "source": [
    "#Write a python program to find whether a number is prime or composite"
   ]
  },
  {
   "cell_type": "code",
   "execution_count": 10,
   "id": "89ce0c5f",
   "metadata": {},
   "outputs": [
    {
     "name": "stdout",
     "output_type": "stream",
     "text": [
      "Enter number : 5\n",
      "5  => Prime Number\n"
     ]
    }
   ],
   "source": [
    "number = int(input(\"Enter number : \"))\n",
    "if number == 0 or number == 1:\n",
    "    print(number,\" => Neither prime nor composite\")\n",
    "else:\n",
    "    for i in range(2,number):\n",
    "        if(number % i == 0):\n",
    "            print(number,\" => Composite Number\")\n",
    "            break\n",
    "    else:\n",
    "        print(number,\" => Prime Number\")"
   ]
  },
  {
   "cell_type": "code",
   "execution_count": null,
   "id": "df5aab5f",
   "metadata": {},
   "outputs": [],
   "source": [
    "#  Write a python program to check whether a given string is palindrome or not"
   ]
  },
  {
   "cell_type": "code",
   "execution_count": 14,
   "id": "75657b11",
   "metadata": {},
   "outputs": [
    {
     "name": "stdout",
     "output_type": "stream",
     "text": [
      "enter a string:naman\n",
      "naman\n",
      "palindrome\n"
     ]
    }
   ],
   "source": [
    "s = input(\"enter a string:\")   \n",
    "print(s[:])\n",
    "revstr = (s[::-1])   #reverse a string\n",
    "if revstr==s:\n",
    "    print(\"palindrome\")\n",
    "else:\n",
    "    print(\"not a palindrome\")"
   ]
  },
  {
   "cell_type": "code",
   "execution_count": null,
   "id": "bb8d6af2",
   "metadata": {},
   "outputs": [],
   "source": [
    "#Write a Python program to get the third side of right-angled triangle from two given sides"
   ]
  },
  {
   "cell_type": "code",
   "execution_count": 15,
   "id": "292a7c78",
   "metadata": {},
   "outputs": [
    {
     "name": "stdout",
     "output_type": "stream",
     "text": [
      "Hypotenuse = 5.0\n",
      "Adjacent = 4.0\n",
      "Opposite = 3.0\n",
      "You know the answer!\n"
     ]
    }
   ],
   "source": [
    "def pythagoras(opposite_side,adjacent_side,hypotenuse):\n",
    "        if opposite_side == str(\"x\"):\n",
    "            return (\"Opposite = \" + str(((hypotenuse**2) - (adjacent_side**2))**0.5))\n",
    "        elif adjacent_side == str(\"x\"):\n",
    "            return (\"Adjacent = \" + str(((hypotenuse**2) - (opposite_side**2))**0.5))\n",
    "        elif hypotenuse == str(\"x\"):\n",
    "            return (\"Hypotenuse = \" + str(((opposite_side**2) + (adjacent_side**2))**0.5))\n",
    "        else:\n",
    "            return \"You know the answer!\"\n",
    "    \n",
    "print(pythagoras(3,4,'x'))\n",
    "print(pythagoras(3,'x',5))\n",
    "print(pythagoras('x',4,5))\n",
    "print(pythagoras(3,4,5))"
   ]
  },
  {
   "cell_type": "code",
   "execution_count": null,
   "id": "f3b127b0",
   "metadata": {},
   "outputs": [],
   "source": []
  },
  {
   "cell_type": "code",
   "execution_count": null,
   "id": "1d9a099e",
   "metadata": {},
   "outputs": [],
   "source": []
  }
 ],
 "metadata": {
  "kernelspec": {
   "display_name": "Python 3 (ipykernel)",
   "language": "python",
   "name": "python3"
  },
  "language_info": {
   "codemirror_mode": {
    "name": "ipython",
    "version": 3
   },
   "file_extension": ".py",
   "mimetype": "text/x-python",
   "name": "python",
   "nbconvert_exporter": "python",
   "pygments_lexer": "ipython3",
   "version": "3.9.12"
  }
 },
 "nbformat": 4,
 "nbformat_minor": 5
}
