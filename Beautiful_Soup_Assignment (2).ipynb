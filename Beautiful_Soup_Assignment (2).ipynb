{
 "cells": [
  {
   "cell_type": "code",
   "execution_count": null,
   "id": "f186515c",
   "metadata": {},
   "outputs": [],
   "source": [
    "#Write a python program to display all the header tags from wikipedia.org"
   ]
  },
  {
   "cell_type": "markdown",
   "id": "8bf85d3f",
   "metadata": {},
   "source": [
    "https://en.wikipedia.org/wiki/Main_Page"
   ]
  },
  {
   "cell_type": "code",
   "execution_count": null,
   "id": "4e58a151",
   "metadata": {},
   "outputs": [],
   "source": [
    "from urllib.request import urlopen\n",
    "from bs4 import BeautifulSoup"
   ]
  },
  {
   "cell_type": "code",
   "execution_count": null,
   "id": "c7896ae0",
   "metadata": {},
   "outputs": [],
   "source": [
    "html = urlopen('https://en.wikipedia.org/wiki/Main_Page')\n",
    "bs = BeautifulSoup(html, \"html.parser\")\n",
    "titles = bs.find_all(['h1', 'h2','h3','h4','h5','h6'])\n",
    "print('List all the header tags :', *titles, sep='\\n\\n')"
   ]
  },
  {
   "cell_type": "code",
   "execution_count": null,
   "id": "d0e6c98a",
   "metadata": {},
   "outputs": [],
   "source": [
    "#Write a python program to display IMDB’s Top rated 100 movies’ data (i.e. name, rating, year of release)and make data frame.\n"
   ]
  },
  {
   "cell_type": "code",
   "execution_count": null,
   "id": "a625a324",
   "metadata": {},
   "outputs": [],
   "source": [
    "from urllib.request import urlopen"
   ]
  },
  {
   "cell_type": "code",
   "execution_count": null,
   "id": "d37c69a6",
   "metadata": {},
   "outputs": [],
   "source": [
    "from bs4 import BeautifulSoup\n",
    "import requests\n",
    "import pandas as pd\n",
    "import numpy as np"
   ]
  },
  {
   "cell_type": "markdown",
   "id": "3f005300",
   "metadata": {},
   "source": [
    "https://www.imdb.com/search/title/?count=100&groups=top_1000&sort=user_rating"
   ]
  },
  {
   "cell_type": "code",
   "execution_count": null,
   "id": "3ff0c0e3",
   "metadata": {},
   "outputs": [],
   "source": [
    "page = requests.get('https://www.imdb.com/search/title/?count=100&groups=top_1000&sort=user_rating')"
   ]
  },
  {
   "cell_type": "code",
   "execution_count": null,
   "id": "7c062746",
   "metadata": {},
   "outputs": [],
   "source": [
    "page"
   ]
  },
  {
   "cell_type": "code",
   "execution_count": null,
   "id": "371043a1",
   "metadata": {},
   "outputs": [],
   "source": [
    "soup = BeautifulSoup(page.content,'html.parser')"
   ]
  },
  {
   "cell_type": "code",
   "execution_count": null,
   "id": "b7f2584a",
   "metadata": {},
   "outputs": [],
   "source": [
    "soup"
   ]
  },
  {
   "cell_type": "code",
   "execution_count": null,
   "id": "2064597c",
   "metadata": {},
   "outputs": [],
   "source": [
    "movie_name=[]\n",
    "year = []\n",
    "rating = []"
   ]
  },
  {
   "cell_type": "code",
   "execution_count": null,
   "id": "52a173f8",
   "metadata": {},
   "outputs": [],
   "source": [
    "movie_data= soup.findAll('div', attrs={'class': 'lister-item mode-advanced'})"
   ]
  },
  {
   "cell_type": "code",
   "execution_count": null,
   "id": "987b1c3c",
   "metadata": {},
   "outputs": [],
   "source": [
    "for store in movie_data:\n",
    "    name = store.h3.a.text\n",
    "    movie_name.append(name)\n",
    "    \n",
    "    year_release =store.h3.find('span', class_='lister-item-year text-muted unbold').text\n",
    "    year.append(year_release)\n",
    "    \n",
    "    rate = store.find('div', class_='inline-block ratings-imdb-rating').text.replace('\\n','')\n",
    "    rating.append(rate)"
   ]
  },
  {
   "cell_type": "code",
   "execution_count": null,
   "id": "6377e313",
   "metadata": {},
   "outputs": [],
   "source": [
    "movie_df = pd.DataFrame({'movie_name':movie_name,'year':year,'rating':rating})"
   ]
  },
  {
   "cell_type": "code",
   "execution_count": null,
   "id": "7207697f",
   "metadata": {},
   "outputs": [],
   "source": [
    "movie_df"
   ]
  },
  {
   "cell_type": "code",
   "execution_count": null,
   "id": "87ea2523",
   "metadata": {},
   "outputs": [],
   "source": [
    "# Write a python program to display IMDB’s Top rated 100 Indian movies’ data (i.e. name, rating, year ofrelease) and make data frame."
   ]
  },
  {
   "cell_type": "markdown",
   "id": "8e5899c6",
   "metadata": {},
   "source": [
    "https://www.imdb.com/list/ls056092300/"
   ]
  },
  {
   "cell_type": "code",
   "execution_count": null,
   "id": "b0b90d21",
   "metadata": {},
   "outputs": [],
   "source": [
    "page = requests.get('https://www.imdb.com/list/ls056092300/')"
   ]
  },
  {
   "cell_type": "code",
   "execution_count": null,
   "id": "1001eaa8",
   "metadata": {},
   "outputs": [],
   "source": [
    "page"
   ]
  },
  {
   "cell_type": "code",
   "execution_count": null,
   "id": "26c20078",
   "metadata": {},
   "outputs": [],
   "source": [
    "soup = BeautifulSoup(page.content,'html.parser')"
   ]
  },
  {
   "cell_type": "code",
   "execution_count": null,
   "id": "8c9d14d3",
   "metadata": {},
   "outputs": [],
   "source": [
    "soup"
   ]
  },
  {
   "cell_type": "code",
   "execution_count": null,
   "id": "fbabcbab",
   "metadata": {},
   "outputs": [],
   "source": [
    "film_name = []\n",
    "release_year = []\n",
    "ratings = []"
   ]
  },
  {
   "cell_type": "code",
   "execution_count": null,
   "id": "7c3ba362",
   "metadata": {},
   "outputs": [],
   "source": [
    "indian_movie_data= soup.findAll('div', attrs={'class': \"lister-item-content\"})"
   ]
  },
  {
   "cell_type": "code",
   "execution_count": null,
   "id": "dadfa9dc",
   "metadata": {},
   "outputs": [],
   "source": [
    "for store in indian_movie_data:\n",
    "     name = store.h3.a.text"
   ]
  },
  {
   "cell_type": "code",
   "execution_count": null,
   "id": "fc4e261a",
   "metadata": {},
   "outputs": [],
   "source": [
    "name"
   ]
  },
  {
   "cell_type": "code",
   "execution_count": null,
   "id": "9e576784",
   "metadata": {},
   "outputs": [],
   "source": [
    "film_name.append(name)"
   ]
  },
  {
   "cell_type": "code",
   "execution_count": null,
   "id": "0d993938",
   "metadata": {},
   "outputs": [],
   "source": [
    "film_name"
   ]
  },
  {
   "cell_type": "code",
   "execution_count": null,
   "id": "2ad85b0f",
   "metadata": {},
   "outputs": [],
   "source": [
    "year = store.h3.find('span', class_=\"lister-item-year text-muted unbold\").text"
   ]
  },
  {
   "cell_type": "code",
   "execution_count": null,
   "id": "9c186f81",
   "metadata": {},
   "outputs": [],
   "source": [
    "year"
   ]
  },
  {
   "cell_type": "code",
   "execution_count": null,
   "id": "1218a083",
   "metadata": {},
   "outputs": [],
   "source": [
    "release_year.append(year)"
   ]
  },
  {
   "cell_type": "code",
   "execution_count": null,
   "id": "e67d5de9",
   "metadata": {},
   "outputs": [],
   "source": [
    "release_year"
   ]
  },
  {
   "cell_type": "code",
   "execution_count": null,
   "id": "9fc94904",
   "metadata": {},
   "outputs": [],
   "source": [
    "rate = store.find('span', class_='ipl-rating-star__rating').text"
   ]
  },
  {
   "cell_type": "code",
   "execution_count": null,
   "id": "445fef6f",
   "metadata": {},
   "outputs": [],
   "source": [
    "rate"
   ]
  },
  {
   "cell_type": "code",
   "execution_count": null,
   "id": "15018ada",
   "metadata": {},
   "outputs": [],
   "source": [
    "ratings.append(rate)"
   ]
  },
  {
   "cell_type": "code",
   "execution_count": null,
   "id": "480494d2",
   "metadata": {},
   "outputs": [],
   "source": [
    "ratings"
   ]
  },
  {
   "cell_type": "code",
   "execution_count": null,
   "id": "02be20f2",
   "metadata": {},
   "outputs": [],
   "source": [
    "movie_df = pd.DataFrame({'film_name':film_name,'release_year':release_year,'ratings':ratings})"
   ]
  },
  {
   "cell_type": "code",
   "execution_count": null,
   "id": "56f162fa",
   "metadata": {},
   "outputs": [],
   "source": [
    "movie_df"
   ]
  },
  {
   "cell_type": "code",
   "execution_count": null,
   "id": "4d48a377",
   "metadata": {},
   "outputs": [],
   "source": [
    "#Write s python program to display list of respected former presidents of India(i.e. Name , Term of office)from :-"
   ]
  },
  {
   "cell_type": "markdown",
   "id": "f478dfb2",
   "metadata": {},
   "source": [
    "https://presidentofindia.nic.in/former-presidents.htm"
   ]
  },
  {
   "cell_type": "code",
   "execution_count": null,
   "id": "50c93736",
   "metadata": {},
   "outputs": [],
   "source": [
    "page = requests.get('https://presidentofindia.nic.in/former-presidents.htm')"
   ]
  },
  {
   "cell_type": "code",
   "execution_count": null,
   "id": "1378990d",
   "metadata": {},
   "outputs": [],
   "source": [
    "page"
   ]
  },
  {
   "cell_type": "code",
   "execution_count": null,
   "id": "c1adbb91",
   "metadata": {},
   "outputs": [],
   "source": [
    "soup = BeautifulSoup(page.content)"
   ]
  },
  {
   "cell_type": "code",
   "execution_count": null,
   "id": "0824f606",
   "metadata": {},
   "outputs": [],
   "source": [
    "soup"
   ]
  },
  {
   "cell_type": "code",
   "execution_count": null,
   "id": "cd1449b7",
   "metadata": {},
   "outputs": [],
   "source": [
    "president_name = []\n",
    "term_of_office = [] "
   ]
  },
  {
   "cell_type": "code",
   "execution_count": null,
   "id": "6c38eada",
   "metadata": {},
   "outputs": [],
   "source": [
    "presidents_data= soup.findAll('div', attrs={'class': 'presidentListing'})"
   ]
  },
  {
   "cell_type": "code",
   "execution_count": null,
   "id": "590e968a",
   "metadata": {},
   "outputs": [],
   "source": [
    "for store in presidents_data:\n",
    "    name = store.h3.text\n",
    "    president_name.append(name)\n",
    "    \n",
    "    term = store.p.text\n",
    "    term_of_office.append(term)"
   ]
  },
  {
   "cell_type": "code",
   "execution_count": null,
   "id": "cf058d17",
   "metadata": {},
   "outputs": [],
   "source": [
    "president_df = pd.DataFrame({'president_name':president_name,'term_of_office':term_of_office})"
   ]
  },
  {
   "cell_type": "code",
   "execution_count": null,
   "id": "ac0665ed",
   "metadata": {},
   "outputs": [],
   "source": [
    "president_df"
   ]
  },
  {
   "cell_type": "code",
   "execution_count": null,
   "id": "92e8bcf9",
   "metadata": {},
   "outputs": [],
   "source": [
    "# Write a python program to scrape cricket rankings from icc-cricket.com. You have to scrape:\n",
    "# a) Top 10 ODI teams in men’s cricket along with the records for matches, points and rating.\n",
    "# b) Top 10 ODI Batsmen along with the records of their team and rating.\n",
    "# c) Top 10 ODI bowlers along with the records of their team and rating."
   ]
  },
  {
   "cell_type": "markdown",
   "id": "9fd5e970",
   "metadata": {},
   "source": [
    "https://www.icc-cricket.com/rankings/mens/player-rankings/test"
   ]
  },
  {
   "cell_type": "code",
   "execution_count": null,
   "id": "1fd6ca33",
   "metadata": {},
   "outputs": [],
   "source": [
    "# a) Top 10 ODI teams in men’s cricket along with the records for matches, points and rating."
   ]
  },
  {
   "cell_type": "code",
   "execution_count": null,
   "id": "2400f250",
   "metadata": {},
   "outputs": [],
   "source": [
    "page = requests.get('https://www.icc-cricket.com/rankings/mens/team-rankings/odi')"
   ]
  },
  {
   "cell_type": "code",
   "execution_count": null,
   "id": "03b31165",
   "metadata": {},
   "outputs": [],
   "source": [
    "page"
   ]
  },
  {
   "cell_type": "code",
   "execution_count": null,
   "id": "9c20c787",
   "metadata": {},
   "outputs": [],
   "source": [
    "soup = BeautifulSoup(page.content)"
   ]
  },
  {
   "cell_type": "code",
   "execution_count": null,
   "id": "c52a97bb",
   "metadata": {},
   "outputs": [],
   "source": [
    "soup"
   ]
  },
  {
   "cell_type": "code",
   "execution_count": null,
   "id": "bfe0c49c",
   "metadata": {},
   "outputs": [],
   "source": [
    "teams=[]\n",
    "matches=[]\n",
    "points=[]\n",
    "ratings=[]"
   ]
  },
  {
   "cell_type": "code",
   "execution_count": null,
   "id": "374d1674",
   "metadata": {},
   "outputs": [],
   "source": [
    "cricket_teams_data= soup.findAll('tr', attrs={'class': \"table-body\"})"
   ]
  },
  {
   "cell_type": "code",
   "execution_count": null,
   "id": "4c367b1c",
   "metadata": {},
   "outputs": [],
   "source": [
    "for store in cricket_teams_data:\n",
    "    T = store.find('span', class_='u-hide-phablet').text\n",
    "    teams.append(T)\n",
    "    \n",
    "    M = store.find('td', class_='table-body__cell u-center-text').text\n",
    "    matches.append(M)\n",
    "    \n",
    "    R = store.find('td', class_=\"table-body__cell u-text-right rating\").text\n",
    "    ratings.append(R)"
   ]
  },
  {
   "cell_type": "code",
   "execution_count": null,
   "id": "41e9e920",
   "metadata": {},
   "outputs": [],
   "source": [
    "cricket_teams_df = pd.DataFrame({'teams':teams,'matches':matches,'ratings':ratings})"
   ]
  },
  {
   "cell_type": "code",
   "execution_count": null,
   "id": "b2f7f7fe",
   "metadata": {},
   "outputs": [],
   "source": [
    "cricket_teams_df"
   ]
  },
  {
   "cell_type": "code",
   "execution_count": null,
   "id": "b19dbcfd",
   "metadata": {},
   "outputs": [],
   "source": [
    "team1_detail = {\"teams\":['England'],\"matches\":[27],\"ratings\":[119]}\n",
    "team1_df = pd.DataFrame(team1_detail)"
   ]
  },
  {
   "cell_type": "code",
   "execution_count": null,
   "id": "e0afd3a5",
   "metadata": {},
   "outputs": [],
   "source": [
    "team1_df"
   ]
  },
  {
   "cell_type": "code",
   "execution_count": null,
   "id": "7ee5143b",
   "metadata": {},
   "outputs": [],
   "source": [
    "frames = [team1_df, cricket_teams_df]\n",
    "teamdf = pd.concat(frames, sort=False)\n",
    "teamdf.reset_index(drop=True, inplace=True)"
   ]
  },
  {
   "cell_type": "code",
   "execution_count": null,
   "id": "cf90b5ff",
   "metadata": {},
   "outputs": [],
   "source": [
    "teamdf"
   ]
  },
  {
   "cell_type": "code",
   "execution_count": null,
   "id": "7585d0dc",
   "metadata": {},
   "outputs": [],
   "source": [
    "teamdf.head(11)"
   ]
  },
  {
   "cell_type": "code",
   "execution_count": null,
   "id": "645c00a6",
   "metadata": {},
   "outputs": [],
   "source": [
    "# b) Top 10 ODI Batsmen along with the records of their team and rating"
   ]
  },
  {
   "cell_type": "markdown",
   "id": "28e4c856",
   "metadata": {},
   "source": [
    "https://www.icc-cricket.com/rankings/mens/player-rankings/odi"
   ]
  },
  {
   "cell_type": "code",
   "execution_count": null,
   "id": "098b22a4",
   "metadata": {},
   "outputs": [],
   "source": [
    "page = requests.get('https://www.icc-cricket.com/rankings/mens/player-rankings/odi')\n",
    "soup = BeautifulSoup(page.content)"
   ]
  },
  {
   "cell_type": "code",
   "execution_count": null,
   "id": "5cb6b7fa",
   "metadata": {},
   "outputs": [],
   "source": [
    "names=[]\n",
    "team=[]\n",
    "rating=[]"
   ]
  },
  {
   "cell_type": "code",
   "execution_count": null,
   "id": "8d8cd229",
   "metadata": {},
   "outputs": [],
   "source": [
    "batsmen_data = soup.findAll('tr', attrs={'class': 'table-body'})"
   ]
  },
  {
   "cell_type": "code",
   "execution_count": null,
   "id": "d86b57c5",
   "metadata": {},
   "outputs": [],
   "source": [
    "for store in batsmen_data:\n",
    "    name = store.a.text\n",
    "    names.append(name)\n",
    "    \n",
    "    Tm = store.find('span', class_=\"table-body__logo-text\").text\n",
    "    team.append(Tm)\n",
    "    \n",
    "    R = store.find('td',  class_=\"table-body__cell u-text-right rating\").text\n",
    "    rating.append(R)"
   ]
  },
  {
   "cell_type": "code",
   "execution_count": null,
   "id": "becbcf1a",
   "metadata": {},
   "outputs": [],
   "source": [
    "batsmen_data_df = pd.DataFrame({'names':names,'team':team,'rating':rating})"
   ]
  },
  {
   "cell_type": "code",
   "execution_count": null,
   "id": "589ad71a",
   "metadata": {},
   "outputs": [],
   "source": [
    "batsman1_detail = {\"names\":['Babar azam'],\"team\":\"PAK\",\"rating\":[890]}\n",
    "batsman1_df = pd.DataFrame(batsman1_detail)"
   ]
  },
  {
   "cell_type": "code",
   "execution_count": null,
   "id": "a6af5abc",
   "metadata": {},
   "outputs": [],
   "source": [
    "frames = [batsman1_df, batsmen_data_df]\n",
    "Top_batsmen = pd.concat(frames, sort=False)\n",
    "Top_batsmen.reset_index(drop=True, inplace=True)"
   ]
  },
  {
   "cell_type": "code",
   "execution_count": null,
   "id": "1d6a1131",
   "metadata": {},
   "outputs": [],
   "source": [
    "Top_batsmen.head(10)"
   ]
  },
  {
   "cell_type": "code",
   "execution_count": null,
   "id": "c7901e7d",
   "metadata": {},
   "outputs": [],
   "source": [
    "# c) Top 10 ODI bowlers along with the records of their team and rating."
   ]
  },
  {
   "cell_type": "code",
   "execution_count": null,
   "id": "7e5543ce",
   "metadata": {},
   "outputs": [],
   "source": [
    "page = requests.get('https://www.icc-cricket.com/rankings/mens/player-rankings/odi/bowling')\n",
    "soup = BeautifulSoup(page.content)"
   ]
  },
  {
   "cell_type": "code",
   "execution_count": null,
   "id": "6bac2213",
   "metadata": {},
   "outputs": [],
   "source": [
    "Names=[]\n",
    "Country=[]\n",
    "Rating=[]"
   ]
  },
  {
   "cell_type": "code",
   "execution_count": null,
   "id": "47ff6dc4",
   "metadata": {},
   "outputs": [],
   "source": [
    "bowlers_data = soup.findAll('tr', attrs={'class': 'table-body'})"
   ]
  },
  {
   "cell_type": "code",
   "execution_count": null,
   "id": "4a60430f",
   "metadata": {},
   "outputs": [],
   "source": [
    "for store in bowlers_data:\n",
    "    N = store.a.text\n",
    "    Names.append(N)\n",
    "    \n",
    "    C = store.find('span', class_=\"table-body__logo-text\").text\n",
    "    Country.append(C)\n",
    "    \n",
    "    Ra = store.find('td',  class_=\"table-body__cell rating\").text\n",
    "    Rating.append(Ra)"
   ]
  },
  {
   "cell_type": "code",
   "execution_count": null,
   "id": "7b2a80f8",
   "metadata": {},
   "outputs": [],
   "source": [
    "bowlers_data_df = pd.DataFrame({'Names':Names,'Country':Country,'Rating':Rating})"
   ]
  },
  {
   "cell_type": "code",
   "execution_count": null,
   "id": "adfd1ad2",
   "metadata": {},
   "outputs": [],
   "source": [
    "bowler1_detail = {\"Names\":['Trent Boult'],\"Country\":\"NZ\",\"Rating\":[775]}\n",
    "bowler1_df = pd.DataFrame(bowler1_detail)"
   ]
  },
  {
   "cell_type": "code",
   "execution_count": null,
   "id": "58728c75",
   "metadata": {},
   "outputs": [],
   "source": [
    "frames = [bowler1_df, bowlers_data_df]\n",
    "Top_bowlers = pd.concat(frames, sort=False)\n",
    "Top_bowlers.reset_index(drop=True, inplace=True)"
   ]
  },
  {
   "cell_type": "code",
   "execution_count": null,
   "id": "6dcc54cb",
   "metadata": {},
   "outputs": [],
   "source": [
    "Top_bowlers.head(10)"
   ]
  },
  {
   "cell_type": "code",
   "execution_count": null,
   "id": "b165d4fe",
   "metadata": {},
   "outputs": [],
   "source": [
    "#6) Write a python program to scrape cricket rankings from(icc-cricket.com.) You have to scrape:\n",
    "#a) Top 10 ODI teams in women’s cricket along with the records for matches, points and rating.\n",
    "#b) Top 10 women’s ODI Batting players along with the records of their team and rating.\n",
    "#) Top 10 women’s ODI all-rounder along with the records of their team and rating."
   ]
  },
  {
   "cell_type": "code",
   "execution_count": null,
   "id": "a5f02b6c",
   "metadata": {},
   "outputs": [],
   "source": [
    "page = requests.get('https://www.icc-cricket.com/rankings/womens/team-rankings/odi')\n",
    "soup = BeautifulSoup(page.content)"
   ]
  },
  {
   "cell_type": "code",
   "execution_count": null,
   "id": "03f0d996",
   "metadata": {},
   "outputs": [],
   "source": [
    "WomTeam=[]\n",
    "Wmatches=[]\n",
    "Wpoints=[]\n",
    "Wratings=[]"
   ]
  },
  {
   "cell_type": "code",
   "execution_count": null,
   "id": "f340de4f",
   "metadata": {},
   "outputs": [],
   "source": [
    "women_teams_data= soup.findAll('tr', attrs={'class': \"table-body\"})"
   ]
  },
  {
   "cell_type": "code",
   "execution_count": null,
   "id": "b0c27165",
   "metadata": {},
   "outputs": [],
   "source": [
    "for store in women_teams_data:\n",
    "    WT = store.find('span', class_=\"u-hide-phablet\").text\n",
    "    WomTeam.append(WT)\n",
    "    \n",
    "    WM = store.find('td', class_=\"table-body__cell u-center-text\").text\n",
    "    Wmatches.append(WM)\n",
    "    \n",
    "    WR = store.find('td', class_=\"table-body__cell u-text-right rating\").text\n",
    "    Wratings.append(WR)"
   ]
  },
  {
   "cell_type": "code",
   "execution_count": null,
   "id": "ab0411f7",
   "metadata": {},
   "outputs": [],
   "source": [
    "womens_cricket_teams_df = pd.DataFrame({'Womteam':WomTeam,'Wmatches':Wmatches,'Wratings':Wratings})"
   ]
  },
  {
   "cell_type": "code",
   "execution_count": null,
   "id": "44eadb25",
   "metadata": {},
   "outputs": [],
   "source": [
    "Wteam1_detail = {\"Womteam\":['Australia'],\"Wmatches\":[29],\"Wratings\":[167]}\n",
    "Wteam1_df = pd.DataFrame(Wteam1_detail)"
   ]
  },
  {
   "cell_type": "code",
   "execution_count": null,
   "id": "b4c0f110",
   "metadata": {},
   "outputs": [],
   "source": [
    "Wteam1_df"
   ]
  },
  {
   "cell_type": "code",
   "execution_count": null,
   "id": "1e104c5d",
   "metadata": {},
   "outputs": [],
   "source": [
    "frames = [Wteam1_df, womens_cricket_teams_df]\n",
    "WTop_teams = pd.concat(frames, sort=False)\n",
    "WTop_teams.reset_index(drop=True, inplace=True)"
   ]
  },
  {
   "cell_type": "code",
   "execution_count": null,
   "id": "83ef291f",
   "metadata": {},
   "outputs": [],
   "source": [
    "WTop_teams.head(10)"
   ]
  },
  {
   "cell_type": "code",
   "execution_count": null,
   "id": "3edd1ea5",
   "metadata": {},
   "outputs": [],
   "source": [
    "#b) Top 10 women’s ODI Batting players along with the records of their team and rating."
   ]
  },
  {
   "cell_type": "code",
   "execution_count": null,
   "id": "e81a9e90",
   "metadata": {},
   "outputs": [],
   "source": [
    "page = requests.get('https://www.icc-cricket.com/rankings/womens/player-rankings/odi/batting')\n",
    "soup = BeautifulSoup(page.content)"
   ]
  },
  {
   "cell_type": "code",
   "execution_count": null,
   "id": "d772245c",
   "metadata": {},
   "outputs": [],
   "source": [
    "Player=[]\n",
    "Team=[]\n",
    "Ratings=[]"
   ]
  },
  {
   "cell_type": "code",
   "execution_count": null,
   "id": "880e755e",
   "metadata": {},
   "outputs": [],
   "source": [
    "women_players_data= soup.findAll('tr', attrs={'class': \"table-body\"})"
   ]
  },
  {
   "cell_type": "code",
   "execution_count": null,
   "id": "8d08dcb5",
   "metadata": {},
   "outputs": [],
   "source": [
    "for store in women_players_data:\n",
    "    P = store.a.text\n",
    "    Player.append(P)\n",
    "    \n",
    "    T = store.find('span', class_=\"table-body__logo-text\").text\n",
    "    Team.append(T)\n",
    "    \n",
    "    R = store.find('td', class_=\"table-body__cell rating\").text\n",
    "    Ratings.append(R)\n",
    "    "
   ]
  },
  {
   "cell_type": "code",
   "execution_count": null,
   "id": "034b0896",
   "metadata": {},
   "outputs": [],
   "source": [
    "batswomen_data_df = pd.DataFrame({'Player':Player,'Team':Team,'Ratings':Ratings})"
   ]
  },
  {
   "cell_type": "code",
   "execution_count": null,
   "id": "9fc47648",
   "metadata": {},
   "outputs": [],
   "source": [
    "batswoman1_detail = {\"Player\":['Beth mooney'],\"Team\":\"AUS\",\"Ratings\":[775]}\n",
    "batswoman1_df = pd.DataFrame(batswoman1_detail)"
   ]
  },
  {
   "cell_type": "code",
   "execution_count": null,
   "id": "9d178efb",
   "metadata": {},
   "outputs": [],
   "source": [
    "frames = [batswoman1_df, batswomen_data_df]\n",
    "Top_batswomen = pd.concat(frames, sort=False)\n",
    "Top_batswomen.reset_index(drop=True, inplace=True)"
   ]
  },
  {
   "cell_type": "code",
   "execution_count": null,
   "id": "8ad3fda2",
   "metadata": {},
   "outputs": [],
   "source": [
    "Top_batswomen.head(10)"
   ]
  },
  {
   "cell_type": "code",
   "execution_count": null,
   "id": "8cbdabf9",
   "metadata": {},
   "outputs": [],
   "source": [
    "#) Top 10 women’s ODI all-rounder along with the records of their team and rating."
   ]
  },
  {
   "cell_type": "code",
   "execution_count": null,
   "id": "d2ecd3dd",
   "metadata": {},
   "outputs": [],
   "source": [
    "page = requests.get('https://www.icc-cricket.com/rankings/womens/player-rankings/odi/all-rounder')\n",
    "soup = BeautifulSoup(page.content)"
   ]
  },
  {
   "cell_type": "code",
   "execution_count": null,
   "id": "35945e46",
   "metadata": {},
   "outputs": [],
   "source": [
    "ARplayer=[]\n",
    "ARteam=[]\n",
    "ARratings=[]"
   ]
  },
  {
   "cell_type": "code",
   "execution_count": null,
   "id": "cd450297",
   "metadata": {},
   "outputs": [],
   "source": [
    "women_ARplayers_data= soup.findAll('tr', attrs={'class': \"table-body\"})"
   ]
  },
  {
   "cell_type": "code",
   "execution_count": null,
   "id": "43fbe7a1",
   "metadata": {},
   "outputs": [],
   "source": [
    "for store in women_ARplayers_data:\n",
    "    ARP = store.a.text\n",
    "    ARplayer.append(ARP)\n",
    "    \n",
    "    ART = store.find('span', class_=\"table-body__logo-text\").text\n",
    "    ARteam.append(ART)\n",
    "    \n",
    "    ARR = store.find('td', class_=\"table-body__cell rating\").text\n",
    "    ARratings.append(ARR)"
   ]
  },
  {
   "cell_type": "code",
   "execution_count": null,
   "id": "1ffad4da",
   "metadata": {},
   "outputs": [],
   "source": [
    "ALLrounder_data_df = pd.DataFrame({'ARplayer':ARplayer,'ARTeam':ARteam,'ARratings':ARratings})"
   ]
  },
  {
   "cell_type": "code",
   "execution_count": null,
   "id": "68eb7d99",
   "metadata": {},
   "outputs": [],
   "source": [
    "allround1_detail = {\"ARplayer\":['Ellyse Perry'],\"ARTeam\":\"AUS\",\"ARratings\":[374]}"
   ]
  },
  {
   "cell_type": "code",
   "execution_count": null,
   "id": "656763c0",
   "metadata": {},
   "outputs": [],
   "source": [
    "allround1_df = pd.DataFrame(allround1_detail)"
   ]
  },
  {
   "cell_type": "code",
   "execution_count": null,
   "id": "07e2cf6e",
   "metadata": {},
   "outputs": [],
   "source": [
    "frames = [allround1_df, ALLrounder_data_df]\n",
    "Top_women_allrounders = pd.concat(frames, sort=False)\n",
    "Top_women_allrounders.reset_index(drop=True, inplace=True)"
   ]
  },
  {
   "cell_type": "code",
   "execution_count": null,
   "id": "f85c9843",
   "metadata": {},
   "outputs": [],
   "source": [
    "Top_women_allrounders.head(10)"
   ]
  },
  {
   "cell_type": "code",
   "execution_count": null,
   "id": "1d66419a",
   "metadata": {},
   "outputs": [],
   "source": [
    "#8) Write a python program to scrape the details of most downloaded articles from AI in last 90 days."
   ]
  },
  {
   "cell_type": "code",
   "execution_count": null,
   "id": "6ae4df7d",
   "metadata": {},
   "outputs": [],
   "source": [
    "#i) Paper Title \n",
    "#ii) Authors\n",
    "#iii) Published Date \n",
    "#iv) Paper URL"
   ]
  },
  {
   "cell_type": "markdown",
   "id": "00a3ba54",
   "metadata": {},
   "source": [
    "https://www.journals.elsevier.com/artificial-intelligence/most-downloaded-articles\n"
   ]
  },
  {
   "cell_type": "code",
   "execution_count": null,
   "id": "48a831e1",
   "metadata": {},
   "outputs": [],
   "source": [
    "page = requests.get('https://www.journals.elsevier.com/artificial-intelligence/most-downloaded-articles')\n",
    "soup = BeautifulSoup(page.content, \"html.parser\")"
   ]
  },
  {
   "cell_type": "code",
   "execution_count": null,
   "id": "45608949",
   "metadata": {},
   "outputs": [],
   "source": [
    "paper_title=[]\n",
    "authors=[]\n",
    "published_date=[]\n",
    "paper_url=[]"
   ]
  },
  {
   "cell_type": "code",
   "execution_count": null,
   "id": "b19cebe1",
   "metadata": {},
   "outputs": [],
   "source": [
    "most_downloaded_articles= soup.findAll('li', attrs={'class':\"sc-9zxyh7-1 sc-9zxyh7-2 exAXfr jQmQZp\"})"
   ]
  },
  {
   "cell_type": "code",
   "execution_count": null,
   "id": "74e8e410",
   "metadata": {},
   "outputs": [],
   "source": [
    "for store in most_downloaded_articles:\n",
    "    PT = store.a.text\n",
    "    paper_title.append(PT)\n",
    "    \n",
    "    AR = store.find('span', class_=\"sc-1w3fpd7-0 pgLAT\").text\n",
    "    authors.append(AR)\n",
    "    \n",
    "    PD = store.find('span', class_=\"sc-1thf9ly-2 bKddwo\").text\n",
    "    published_date.append(PD)"
   ]
  },
  {
   "cell_type": "code",
   "execution_count": null,
   "id": "021d1d83",
   "metadata": {
    "scrolled": true
   },
   "outputs": [],
   "source": [
    "most_downloaded_articles = pd.DataFrame({'paper_title':paper_title,'authors':authors,'published_date':published_date})"
   ]
  },
  {
   "cell_type": "code",
   "execution_count": null,
   "id": "e3e08635",
   "metadata": {},
   "outputs": [],
   "source": [
    "most_downloaded_articles"
   ]
  },
  {
   "cell_type": "code",
   "execution_count": null,
   "id": "d8129f1a",
   "metadata": {},
   "outputs": [],
   "source": [
    "#9) Write a python program to scrape mentioned details from dineout.co.in :\n",
    "# Restaurant name\n",
    "#Cuisine\n",
    "# Location \n",
    "# Ratings\n",
    "# Image URL"
   ]
  },
  {
   "cell_type": "code",
   "execution_count": null,
   "id": "1bb3199d",
   "metadata": {},
   "outputs": [],
   "source": [
    "page = requests.get('https://www.dineout.co.in/delhi-restaurants/buffet-special')\n",
    "soup = BeautifulSoup(page.content, \"html.parser\")"
   ]
  },
  {
   "cell_type": "code",
   "execution_count": null,
   "id": "596615cb",
   "metadata": {},
   "outputs": [],
   "source": [
    "resturant_name=[]\n",
    "cuisine=[]\n",
    "location=[]\n",
    "ratings=[]\n",
    "image_url=[]"
   ]
  },
  {
   "cell_type": "code",
   "execution_count": null,
   "id": "b7bf5d3d",
   "metadata": {},
   "outputs": [],
   "source": [
    "resturants = soup.findAll('div', attrs={'class':\"restnt-card restaurant\"})"
   ]
  },
  {
   "cell_type": "code",
   "execution_count": null,
   "id": "953e9f96",
   "metadata": {},
   "outputs": [],
   "source": [
    "for store in resturants:\n",
    "    RN = store.find('a',class_=\"restnt-name ellipsis\").text\n",
    "    resturant_name.append(RN)\n",
    "    \n",
    "    L = store.find('div',class_=\"restnt-loc ellipsis\").text\n",
    "    location.append(L)\n",
    "    \n",
    "    R = store.find('div',class_=\"restnt-rating rating-4\").text\n",
    "    ratings.append(R)\n",
    "    \n",
    "    C = store.find('span',class_=\"double-line-ellipsis\").text.replace('|','')\n",
    "    cuisine.append(C)\n",
    "    \n",
    "    I = store.find(\"img\", class_=\"no-img\")\n",
    "    image_url.append(I.get('data-src'))"
   ]
  },
  {
   "cell_type": "code",
   "execution_count": null,
   "id": "3c7556a7",
   "metadata": {},
   "outputs": [],
   "source": [
    "resturants_detail_df = pd.DataFrame({'resturant_name':resturant_name,'cuisine':cuisine,'location':location,'ratings':ratings,'image_url':image_url})"
   ]
  },
  {
   "cell_type": "code",
   "execution_count": null,
   "id": "6b7dc17a",
   "metadata": {},
   "outputs": [],
   "source": [
    "resturants_detail_df"
   ]
  },
  {
   "cell_type": "code",
   "execution_count": null,
   "id": "79e2ce9c",
   "metadata": {},
   "outputs": [],
   "source": [
    "# 10) Write a python program to scrape the details of top publications from Google Scholar from "
   ]
  },
  {
   "cell_type": "code",
   "execution_count": null,
   "id": "0ca78654",
   "metadata": {},
   "outputs": [],
   "source": [
    "# i) Rank \n",
    "# ii) Publication\n",
    "# iii) h5-index\n",
    "# iv) h5-median"
   ]
  },
  {
   "cell_type": "markdown",
   "id": "2aebb6f6",
   "metadata": {},
   "source": [
    "https://scholar.google.com/citations?view_op=top_venues&hl=en"
   ]
  },
  {
   "cell_type": "code",
   "execution_count": null,
   "id": "7dff974a",
   "metadata": {},
   "outputs": [],
   "source": [
    "page = requests.get('https://scholar.google.com/citations?view_op=top_venues&hl=en')\n",
    "soup = BeautifulSoup(page.content, \"html.parser\")"
   ]
  },
  {
   "cell_type": "code",
   "execution_count": null,
   "id": "4fc70cf2",
   "metadata": {},
   "outputs": [],
   "source": [
    "rank=[]\n",
    "publication=[]\n",
    "h5_index=[]\n",
    "h5_median=[]"
   ]
  },
  {
   "cell_type": "code",
   "execution_count": null,
   "id": "d98d14c2",
   "metadata": {},
   "outputs": [],
   "source": [
    "top_publications = soup.findAll('td', attrs={'class':\"gsc_mvt_p\"})"
   ]
  },
  {
   "cell_type": "code",
   "execution_count": null,
   "id": "0d3208f3",
   "metadata": {},
   "outputs": [],
   "source": [
    "for r in soup.find_all('td',class_=\"gsc_mvt_p\"):\n",
    "    rank.append(r.text)"
   ]
  },
  {
   "cell_type": "code",
   "execution_count": null,
   "id": "f12d7312",
   "metadata": {},
   "outputs": [],
   "source": [
    "for p in soup.find_all('td',class_=\"gsc_mvt_t\"):\n",
    "    publication.append(p.text)"
   ]
  },
  {
   "cell_type": "code",
   "execution_count": null,
   "id": "ed931e49",
   "metadata": {},
   "outputs": [],
   "source": [
    "for hv in soup.find_all('a',class_=\"gs_ibl gsc_mp_anchor\"):\n",
    "    h5_index.append(hv.text)"
   ]
  },
  {
   "cell_type": "code",
   "execution_count": null,
   "id": "196096d3",
   "metadata": {},
   "outputs": [],
   "source": [
    "for hj in soup.find_all('span',class_=\"gs_ibl gsc_mp_anchor\"):\n",
    "    h5_median.append(hv.text)\n"
   ]
  },
  {
   "cell_type": "code",
   "execution_count": null,
   "id": "80c4a21b",
   "metadata": {},
   "outputs": [],
   "source": [
    "top_publications_df = pd.DataFrame({'rank':rank,'publication':publication,'h5_index':h5_index,'h5_median':h5_median})"
   ]
  },
  {
   "cell_type": "code",
   "execution_count": null,
   "id": "9ac6f115",
   "metadata": {},
   "outputs": [],
   "source": [
    "top_publications_df"
   ]
  },
  {
   "cell_type": "code",
   "execution_count": null,
   "id": "7bac1bf1",
   "metadata": {},
   "outputs": [],
   "source": []
  }
 ],
 "metadata": {
  "kernelspec": {
   "display_name": "Python 3 (ipykernel)",
   "language": "python",
   "name": "python3"
  },
  "language_info": {
   "codemirror_mode": {
    "name": "ipython",
    "version": 3
   },
   "file_extension": ".py",
   "mimetype": "text/x-python",
   "name": "python",
   "nbconvert_exporter": "python",
   "pygments_lexer": "ipython3",
   "version": "3.9.12"
  }
 },
 "nbformat": 4,
 "nbformat_minor": 5
}
